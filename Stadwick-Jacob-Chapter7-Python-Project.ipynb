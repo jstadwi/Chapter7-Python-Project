{
 "cells": [
  {
   "cell_type": "code",
   "execution_count": 12,
   "id": "12b1ea2d",
   "metadata": {},
   "outputs": [],
   "source": [
    "class SimpleMath:\n",
    "    def __init__(self):\n",
    "        pass\n",
    "    def divide(self, numerator, denominator):\n",
    "        if (denominator == 0):\n",
    "            raise ZeroDivisionError(\"Cannot divide by zero\")\n",
    "        else:\n",
    "            return numerator / denominator\n",
    "    def multiply(self, num1, num2):\n",
    "        return num1*num2"
   ]
  },
  {
   "cell_type": "code",
   "execution_count": 13,
   "id": "0708960f",
   "metadata": {},
   "outputs": [
    {
     "name": "stderr",
     "output_type": "stream",
     "text": [
      "....\n",
      "----------------------------------------------------------------------\n",
      "Ran 4 tests in 0.006s\n",
      "\n",
      "OK\n"
     ]
    }
   ],
   "source": [
    "import unittest\n",
    "\n",
    "class SimpleMathTest(unittest.TestCase):\n",
    "    def testThatZeroNumeratorReturnsZero(self):\n",
    "        math = SimpleMath()\n",
    "        self.assertEqual(math.divide(0,7),0)\n",
    "    def testThatSmallerNumeratorReturnsDecimalValue(self):\n",
    "        math = SimpleMath()\n",
    "        self.assertEqual(math.divide(1,4),.25)\n",
    "    def testThatSmallerNumeratorReturnsRepeatingDecimalValue(self):\n",
    "        math = SimpleMath()\n",
    "        self.assertAlmostEqual(math.divide(1,7),.143,3)\n",
    "    def testThatZeroDenominatorThrowsException(self):\n",
    "        math = SimpleMath()\n",
    "        with self.assertRaises(ZeroDivisionError):\n",
    "            math.divide(6,0)\n",
    "if __name__ == '__main__':\n",
    "    unittest.main(argv=['first-arg-is-ignored'], exit=False)\n",
    "        \n"
   ]
  }
 ],
 "metadata": {
  "kernelspec": {
   "display_name": "Python 3",
   "language": "python",
   "name": "python3"
  },
  "language_info": {
   "codemirror_mode": {
    "name": "ipython",
    "version": 3
   },
   "file_extension": ".py",
   "mimetype": "text/x-python",
   "name": "python",
   "nbconvert_exporter": "python",
   "pygments_lexer": "ipython3",
   "version": "3.8.8"
  }
 },
 "nbformat": 4,
 "nbformat_minor": 5
}
